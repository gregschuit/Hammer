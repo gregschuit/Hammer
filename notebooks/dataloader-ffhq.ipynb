{
 "cells": [
  {
   "cell_type": "code",
   "execution_count": 1,
   "metadata": {},
   "outputs": [],
   "source": [
    "import sys\n",
    "\n",
    "sys.path.append(\"..\")"
   ]
  },
  {
   "cell_type": "code",
   "execution_count": 3,
   "metadata": {},
   "outputs": [],
   "source": [
    "from datasets.image_dataset import ImageDataset"
   ]
  },
  {
   "cell_type": "code",
   "execution_count": 4,
   "metadata": {},
   "outputs": [],
   "source": [
    "DATASET_DIR = '/mnt/data/ffhq256/resized/'"
   ]
  },
  {
   "cell_type": "code",
   "execution_count": 9,
   "metadata": {},
   "outputs": [],
   "source": [
    "dataset_kwargs = {\n",
    "    'root_dir': '/mnt/data/ffhq256/resized',\n",
    "    'file_format': None,\n",
    "    'annotation_path': None,\n",
    "    'annotation_meta': None,\n",
    "    'annotation_format': None,\n",
    "    'max_samples': -1,\n",
    "    'mirror': True,\n",
    "    'transform_kwargs': {\n",
    "        'image_size': 256,\n",
    "        'image_channels': 3,\n",
    "        'min_val': -1.0,\n",
    "        'max_val': 1.0\n",
    "    }\n",
    "}"
   ]
  },
  {
   "cell_type": "code",
   "execution_count": 11,
   "metadata": {},
   "outputs": [],
   "source": [
    "dataset = ImageDataset(**dataset_kwargs)"
   ]
  },
  {
   "cell_type": "code",
   "execution_count": 13,
   "metadata": {},
   "outputs": [
    {
     "data": {
      "text/plain": [
       "{'Type': 'ImageDataset',\n",
       " 'Root dir': '/mnt/data/ffhq256/resized',\n",
       " 'Dataset file format': 'dir',\n",
       " 'Annotation path': None,\n",
       " 'Annotation meta': None,\n",
       " 'Annotation format': None,\n",
       " 'Num samples in dataset': 70000,\n",
       " 'Num samples to use (non-positive means all)': -1,\n",
       " 'Mirror': True,\n",
       " 'Actual num samples used (after mirror)': 140000,\n",
       " 'Support DALI': False,\n",
       " 'Has customized function for DALI forwarding': False,\n",
       " 'Transformation kwargs': '{image_size: 256, image_channels: 3, min_val: -1.0, max_val: 1.0}',\n",
       " 'Dataset classes': 0,\n",
       " 'Use label': False}"
      ]
     },
     "execution_count": 13,
     "metadata": {},
     "output_type": "execute_result"
    }
   ],
   "source": [
    "dataset.info()"
   ]
  },
  {
   "cell_type": "code",
   "execution_count": null,
   "metadata": {},
   "outputs": [],
   "source": []
  }
 ],
 "metadata": {
  "kernelspec": {
   "display_name": "Python 3.7.13 ('venv-torch-1.12-cuda-11.3': venv)",
   "language": "python",
   "name": "python3"
  },
  "language_info": {
   "codemirror_mode": {
    "name": "ipython",
    "version": 3
   },
   "file_extension": ".py",
   "mimetype": "text/x-python",
   "name": "python",
   "nbconvert_exporter": "python",
   "pygments_lexer": "ipython3",
   "version": "3.7.13"
  },
  "orig_nbformat": 4,
  "vscode": {
   "interpreter": {
    "hash": "e048710a2e36a2f518d94008bda42e39debb834c5fb974505e94303ef8afbd44"
   }
  }
 },
 "nbformat": 4,
 "nbformat_minor": 2
}
